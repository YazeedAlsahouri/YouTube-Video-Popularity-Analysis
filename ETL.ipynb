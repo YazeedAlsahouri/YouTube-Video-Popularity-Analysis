{
 "cells": [
  {
   "cell_type": "code",
   "execution_count": 2,
   "id": "d9916dd6-0eb6-4f04-8afe-f12e2ed6c08e",
   "metadata": {
    "scrolled": true
   },
   "outputs": [
    {
     "name": "stdout",
     "output_type": "stream",
     "text": [
      "Collecting chardet\n",
      "  Downloading chardet-5.2.0-py3-none-any.whl.metadata (3.4 kB)\n",
      "Downloading chardet-5.2.0-py3-none-any.whl (199 kB)\n",
      "\u001b[2K   \u001b[90m━━━━━━━━━━━━━━━━━━━━━━━━━━━━━━━━━━━━━━━━\u001b[0m \u001b[32m199.4/199.4 kB\u001b[0m \u001b[31m1.2 MB/s\u001b[0m eta \u001b[36m0:00:00\u001b[0m00:01\u001b[0m0:01\u001b[0m0m\n",
      "\u001b[?25hInstalling collected packages: chardet\n",
      "Successfully installed chardet-5.2.0\n"
     ]
    }
   ],
   "source": [
    "!pip install chardet"
   ]
  },
  {
   "cell_type": "code",
   "execution_count": 3,
   "id": "7e3f4138-916f-4721-8eb0-fd783385a81e",
   "metadata": {},
   "outputs": [],
   "source": [
    "from pyspark.sql import *\n",
    "from pyspark.sql import functions as F\n",
    "from pyspark.sql.types import *\n",
    "import chardet\n",
    "from collections import ChainMap\n",
    "import os\n",
    "import re\n",
    "from pyspark.sql.window import *"
   ]
  },
  {
   "cell_type": "code",
   "execution_count": 7,
   "id": "2da96603-ef09-424b-a586-db7972c7ff37",
   "metadata": {},
   "outputs": [],
   "source": [
    "spark = SparkSession \\\n",
    "            .builder \\\n",
    "            .appName(\"Youtube_Analysis\") \\\n",
    "            .config('spark.jars', 'postgresql-42.5.0.jar') \\\n",
    "            .getOrCreate()"
   ]
  },
  {
   "cell_type": "code",
   "execution_count": 8,
   "id": "20402214-05d6-458a-85a1-b0658136e51e",
   "metadata": {},
   "outputs": [
    {
     "name": "stdout",
     "output_type": "stream",
     "text": [
      "postgresql-42.5.0.jar\n"
     ]
    }
   ],
   "source": [
    "print(spark.conf.get(\"spark.jars\"))"
   ]
  },
  {
   "cell_type": "markdown",
   "id": "5730dfc2-dac9-482c-8ef0-dff052e9de33",
   "metadata": {},
   "source": [
    "## Preparing the Data"
   ]
  },
  {
   "cell_type": "code",
   "execution_count": 4,
   "id": "d6153851-5df6-4a24-ab03-001d600fea0f",
   "metadata": {},
   "outputs": [],
   "source": [
    "schema = StructType([\n",
    "    StructField(\"video_id\", StringType(), True),\n",
    "    StructField(\"trending_date\", StringType(), True),\n",
    "    StructField(\"title\", StringType(), True),\n",
    "    StructField(\"channel_title\", StringType(), True),\n",
    "    StructField(\"category_id\", StringType(), True),\n",
    "    StructField(\"publish_time\", StringType(), True),\n",
    "    StructField(\"tags\", StringType(), True),\n",
    "    StructField(\"views\", StringType(), True),\n",
    "    StructField(\"likes\", StringType(), True),\n",
    "    StructField(\"dislikes\", StringType(), True),\n",
    "    StructField(\"comment_count\", StringType(), True),\n",
    "    StructField(\"thumbnail_link\", StringType(), True),\n",
    "    StructField(\"comments_disabled\", StringType(), True),\n",
    "    StructField(\"ratings_disabled\", StringType(), True),\n",
    "    StructField(\"video_error_or_removed\", StringType(), True),\n",
    "    StructField(\"description\", StringType(), True),\n",
    "    StructField(\"row_id\", LongType(), False),\n",
    "    StructField(\"snippet_title\", StringType(), True),\n",
    "    StructField(\"id\", StringType(), True),\n",
    "    StructField(\"snippet_assignable\", StringType(), True),\n",
    "    StructField(\"region\" ,StringType() ,True)\n",
    "])\n",
    "\n",
    "all_regions = spark.createDataFrame([] ,schema = schema)"
   ]
  },
  {
   "cell_type": "code",
   "execution_count": 173,
   "id": "07e09b5e-f6ed-4c66-b25d-dcf4f610c74f",
   "metadata": {},
   "outputs": [],
   "source": [
    "def ensure_utf8(file_path):\n",
    "    with open(file_path, 'rb') as f:\n",
    "        result = chardet.detect(f.read())\n",
    "        source_encoding = result['encoding']\n",
    "    \n",
    "    if source_encoding is None:\n",
    "        source_encoding = 'utf-8'  \n",
    "\n",
    "    if source_encoding.lower() != 'utf-8':\n",
    "        with open(file_path, 'r', encoding=source_encoding, errors='replace') as f:\n",
    "            content = f.read()\n",
    "        \n",
    "        with open(file_path, 'w', encoding='utf-8') as f:\n",
    "            f.write(content)"
   ]
  },
  {
   "cell_type": "code",
   "execution_count": 174,
   "id": "e2e87dd9-2c7e-4f3e-a6cd-4f6af63d140d",
   "metadata": {},
   "outputs": [],
   "source": [
    "region_mapping = {\n",
    "    \"CA\": \"Canada\",\n",
    "    \"US\": \"United State America\",\n",
    "    \"DE\": \"Germany\",\n",
    "    \"RU\": \"Russia\",\n",
    "    \"KR\": \"South Korea\",\n",
    "    \"JP\": \"Japan\",\n",
    "    \"MX\": \"Mexico\",\n",
    "    \"IN\": \"India\",\n",
    "    \"GB\": \"United Kingdom\"\n",
    "}"
   ]
  },
  {
   "cell_type": "code",
   "execution_count": 175,
   "id": "abbd4612-a7c6-4242-b55f-1cb5b9fda8bb",
   "metadata": {},
   "outputs": [],
   "source": [
    "dir = \"Data\"\n",
    "\n",
    "for file in sorted(os.listdir(dir)):\n",
    "    \n",
    "    if file.endswith(\".csv\"):\n",
    "        files = [name for name in sorted(os.listdir(dir)) if file[:2] in name]\n",
    "\n",
    "        region_code = file[:2]\n",
    "\n",
    "        region_name = region_mapping.get(region_code, \"Unknown\")\n",
    "\n",
    "        file_path = os.path.join(dir ,file)\n",
    "\n",
    "        ensure_utf8(file_path)\n",
    "        \n",
    "        region_df = spark.read.csv(f\"file:///home/jovyan/work/Projects/Youtube_Analysis/Data/{files[-1]}\" ,header=True ,inferSchema = True)\n",
    "        region_json = spark.read.option(\"multiline\", \"true\").json(f\"file:///home/jovyan/work/Projects/Youtube_Analysis/Data/{files[0]}\")\n",
    "\n",
    "        titles = region_json.select(F.explode(region_json[\"items\"][\"snippet\"][\"title\"])).toDF(\"snippet_title\")\n",
    "        assignable = region_json.select(F.explode(region_json[\"items\"][\"snippet\"][\"assignable\"])).toDF(\"snippet_assignable\")\n",
    "        ids  = region_json.select(F.explode(region_json[\"items\"][\"id\"])).toDF(\"id\")\n",
    "\n",
    "\n",
    "        titles_with_id = titles.withColumn(\"row_id\", F.monotonically_increasing_id())\n",
    "        assignable_with_id = assignable.withColumn(\"row_id\", F.monotonically_increasing_id())\n",
    "        ids_with_id = ids.withColumn(\"row_id\", F.monotonically_increasing_id())\n",
    "\n",
    "        region_info = titles_with_id.join(ids_with_id, on=\"row_id\")\n",
    "        region_info = region_info.join(assignable_with_id, on=\"row_id\")\n",
    "\n",
    "        region_join = region_df.join(region_info ,region_df.category_id == region_info.id ,\"inner\")\n",
    "\n",
    "        region_join = region_join.withColumn(\"comments_disabled\", region_join[\"comments_disabled\"].cast(\"string\")) \\\n",
    "                         .withColumn(\"ratings_disabled\", region_join[\"ratings_disabled\"].cast(\"string\")) \\\n",
    "                         .withColumn(\"video_error_or_removed\", region_join[\"video_error_or_removed\"].cast(\"string\")) \\\n",
    "                         .withColumn(\"snippet_assignable\", region_join[\"snippet_assignable\"].cast(\"string\"))\n",
    "\n",
    "\n",
    "        region_join = region_join.withColumn(\"region\", F.lit(region_name))\n",
    "\n",
    "        all_regions = all_regions.union(region_join)"
   ]
  },
  {
   "cell_type": "code",
   "execution_count": 14,
   "id": "4dc1b328-eb21-4f95-94ed-760009dbdb34",
   "metadata": {},
   "outputs": [],
   "source": [
    "all_regions.coalesce(1).write.option(\"header\" ,True).mode(\"overwrite\").csv(\"file:///home/jovyan/work/Projects/Youtube_Analysis/Data/all_regions\")"
   ]
  },
  {
   "cell_type": "code",
   "execution_count": 9,
   "id": "f1ec03d4-6a28-4607-9123-23f3713d709e",
   "metadata": {},
   "outputs": [],
   "source": [
    "all_regions = spark.read.csv(\"file:///home/jovyan/work/Projects/Youtube_Analysis/Data/all_regions/part-00000-46b19352-00e1-4204-b00a-cc3b19ade311-c000.csv\" \n",
    "                             ,header=True ,inferSchema=True)"
   ]
  },
  {
   "cell_type": "code",
   "execution_count": 10,
   "id": "128b44b0-f605-4184-bd05-fae9b2555b97",
   "metadata": {},
   "outputs": [
    {
     "name": "stdout",
     "output_type": "stream",
     "text": [
      "root\n",
      " |-- video_id: string (nullable = true)\n",
      " |-- trending_date: string (nullable = true)\n",
      " |-- title: string (nullable = true)\n",
      " |-- channel_title: string (nullable = true)\n",
      " |-- category_id: integer (nullable = true)\n",
      " |-- publish_time: timestamp (nullable = true)\n",
      " |-- tags: string (nullable = true)\n",
      " |-- views: integer (nullable = true)\n",
      " |-- likes: integer (nullable = true)\n",
      " |-- dislikes: integer (nullable = true)\n",
      " |-- comment_count: integer (nullable = true)\n",
      " |-- thumbnail_link: string (nullable = true)\n",
      " |-- comments_disabled: boolean (nullable = true)\n",
      " |-- ratings_disabled: boolean (nullable = true)\n",
      " |-- video_error_or_removed: boolean (nullable = true)\n",
      " |-- description: string (nullable = true)\n",
      " |-- row_id: integer (nullable = true)\n",
      " |-- snippet_title: string (nullable = true)\n",
      " |-- id: integer (nullable = true)\n",
      " |-- snippet_assignable: boolean (nullable = true)\n",
      " |-- region: string (nullable = true)\n",
      "\n"
     ]
    }
   ],
   "source": [
    "all_regions.printSchema()"
   ]
  },
  {
   "cell_type": "markdown",
   "id": "b480d59f-a43b-4a92-8b4f-aff4076f2fc6",
   "metadata": {},
   "source": [
    "## Transformation"
   ]
  },
  {
   "cell_type": "code",
   "execution_count": 11,
   "id": "0f68c634-c358-45c4-9d6c-c870ca325a13",
   "metadata": {},
   "outputs": [],
   "source": [
    "# Year-Day-Month"
   ]
  },
  {
   "cell_type": "code",
   "execution_count": 12,
   "id": "6725b076-52e8-45fb-950a-6b6dc848772b",
   "metadata": {},
   "outputs": [
    {
     "name": "stdout",
     "output_type": "stream",
     "text": [
      "+-------------+\n",
      "|trending_date|\n",
      "+-------------+\n",
      "|     17.14.11|\n",
      "|     17.14.11|\n",
      "|     17.14.11|\n",
      "|     17.14.11|\n",
      "|     17.14.11|\n",
      "+-------------+\n",
      "only showing top 5 rows\n",
      "\n"
     ]
    }
   ],
   "source": [
    "all_regions.select(all_regions[\"trending_date\"]).show(5)"
   ]
  },
  {
   "cell_type": "code",
   "execution_count": 13,
   "id": "0288c2f5-320e-40ec-9694-8e9375976352",
   "metadata": {},
   "outputs": [],
   "source": [
    "all_regions = all_regions.withColumn( \"trending_date\" , F.to_date(F.concat( \\\n",
    "                            F.lit(\"20\"),F.split(all_regions[\"trending_date\"],\"\\.\")[0] \\\n",
    "                           ,F.lit(\"/\") ,F.split(all_regions[\"trending_date\"],\"\\.\")[1] \\\n",
    "                           ,F.lit(\"/\") ,F.split(all_regions[\"trending_date\"],\"\\.\")[2] \\\n",
    "                                        ) ,\"yyyy/dd/MM\"))"
   ]
  },
  {
   "cell_type": "code",
   "execution_count": 14,
   "id": "5f4cd613-6a6b-4f81-826a-63507b425b28",
   "metadata": {},
   "outputs": [
    {
     "name": "stdout",
     "output_type": "stream",
     "text": [
      "+-------------+\n",
      "|trending_date|\n",
      "+-------------+\n",
      "|   2017-11-14|\n",
      "|   2017-11-14|\n",
      "|   2017-11-14|\n",
      "|   2017-11-14|\n",
      "|   2017-11-14|\n",
      "+-------------+\n",
      "only showing top 5 rows\n",
      "\n"
     ]
    }
   ],
   "source": [
    "all_regions.select(all_regions[\"trending_date\"]).show(5)"
   ]
  },
  {
   "cell_type": "code",
   "execution_count": 15,
   "id": "edaa9939-111b-4ccb-b1af-6ac3fd9125e0",
   "metadata": {},
   "outputs": [],
   "source": [
    "all_regions = all_regions.withColumn(\"tag_list\" ,F.split(all_regions[\"tags\"] ,\"\\|\"))"
   ]
  },
  {
   "cell_type": "code",
   "execution_count": 16,
   "id": "c32be889-9736-425d-9608-00d1ce6254b7",
   "metadata": {},
   "outputs": [],
   "source": [
    "def filter_tags(tags_list):\n",
    "    list_tags = [\"\".join(re.sub(r\"[^\\s\\'\\dA-Za-z\\.,-]\" ,\"\" ,tag)) for tag in tags_list if \"\".join(re.findall(r\"[\\dA-Za-z\\.,-]+\",tag)) !=\"\"]\n",
    "    if (len(list_tags) == 0) or ( \"none\" in  ChainMap(*tags_list) ):\n",
    "        return \"No tags\"\n",
    "    else:\n",
    "        return list_tags"
   ]
  },
  {
   "cell_type": "code",
   "execution_count": 17,
   "id": "7ed6628d-053b-4615-94b3-6ea8488feff6",
   "metadata": {},
   "outputs": [],
   "source": [
    "filter_tags_func = F.udf(filter_tags ,StringType())"
   ]
  },
  {
   "cell_type": "code",
   "execution_count": 18,
   "id": "9c1600d8-d06f-4a1d-8406-2a51189af01f",
   "metadata": {
    "scrolled": true
   },
   "outputs": [],
   "source": [
    "all_regions = all_regions.withColumn(\"tag_list\" ,\n",
    "                      filter_tags_func(F.col(\"tag_list\"))\n",
    "                      )"
   ]
  },
  {
   "cell_type": "code",
   "execution_count": 19,
   "id": "aad28d86-6029-496e-aee8-2581f6a706b8",
   "metadata": {
    "scrolled": true
   },
   "outputs": [
    {
     "name": "stdout",
     "output_type": "stream",
     "text": [
      "video_id\n",
      "+-----+------+\n",
      "|null?| count|\n",
      "+-----+------+\n",
      "|    0|373204|\n",
      "+-----+------+\n",
      "\n",
      "trending_date\n",
      "+-----+------+\n",
      "|null?| count|\n",
      "+-----+------+\n",
      "|    0|373204|\n",
      "+-----+------+\n",
      "\n",
      "title\n",
      "+-----+------+\n",
      "|null?| count|\n",
      "+-----+------+\n",
      "|    0|373204|\n",
      "+-----+------+\n",
      "\n",
      "channel_title\n",
      "+-----+------+\n",
      "|null?| count|\n",
      "+-----+------+\n",
      "|    0|373204|\n",
      "+-----+------+\n",
      "\n",
      "category_id\n",
      "+-----+------+\n",
      "|null?| count|\n",
      "+-----+------+\n",
      "|    0|373204|\n",
      "+-----+------+\n",
      "\n",
      "publish_time\n",
      "+-----+------+\n",
      "|null?| count|\n",
      "+-----+------+\n",
      "|    0|373204|\n",
      "+-----+------+\n",
      "\n",
      "tags\n",
      "+-----+------+\n",
      "|null?| count|\n",
      "+-----+------+\n",
      "|    0|373204|\n",
      "+-----+------+\n",
      "\n",
      "views\n",
      "+-----+------+\n",
      "|null?| count|\n",
      "+-----+------+\n",
      "|    0|373202|\n",
      "|    1|     2|\n",
      "+-----+------+\n",
      "\n",
      "likes\n",
      "+-----+------+\n",
      "|null?| count|\n",
      "+-----+------+\n",
      "|    0|373202|\n",
      "|    1|     2|\n",
      "+-----+------+\n",
      "\n",
      "dislikes\n",
      "+-----+------+\n",
      "|null?| count|\n",
      "+-----+------+\n",
      "|    0|373202|\n",
      "|    1|     2|\n",
      "+-----+------+\n",
      "\n",
      "comment_count\n",
      "+-----+------+\n",
      "|null?| count|\n",
      "+-----+------+\n",
      "|    0|373202|\n",
      "|    1|     2|\n",
      "+-----+------+\n",
      "\n",
      "thumbnail_link\n",
      "+-----+------+\n",
      "|null?| count|\n",
      "+-----+------+\n",
      "|    0|373202|\n",
      "|    1|     2|\n",
      "+-----+------+\n",
      "\n",
      "comments_disabled\n",
      "+-----+------+\n",
      "|null?| count|\n",
      "+-----+------+\n",
      "|    0|373202|\n",
      "|    1|     2|\n",
      "+-----+------+\n",
      "\n",
      "ratings_disabled\n",
      "+-----+------+\n",
      "|null?| count|\n",
      "+-----+------+\n",
      "|    0|373202|\n",
      "|    1|     2|\n",
      "+-----+------+\n",
      "\n",
      "video_error_or_removed\n",
      "+-----+------+\n",
      "|null?| count|\n",
      "+-----+------+\n",
      "|    0|373202|\n",
      "|    1|     2|\n",
      "+-----+------+\n",
      "\n",
      "description\n",
      "+-----+------+\n",
      "|null?| count|\n",
      "+-----+------+\n",
      "|    1| 19201|\n",
      "|    0|354003|\n",
      "+-----+------+\n",
      "\n",
      "row_id\n",
      "+-----+------+\n",
      "|null?| count|\n",
      "+-----+------+\n",
      "|    0|373204|\n",
      "+-----+------+\n",
      "\n",
      "snippet_title\n",
      "+-----+------+\n",
      "|null?| count|\n",
      "+-----+------+\n",
      "|    0|373204|\n",
      "+-----+------+\n",
      "\n",
      "id\n",
      "+-----+------+\n",
      "|null?| count|\n",
      "+-----+------+\n",
      "|    0|373204|\n",
      "+-----+------+\n",
      "\n",
      "snippet_assignable\n",
      "+-----+------+\n",
      "|null?| count|\n",
      "+-----+------+\n",
      "|    0|373204|\n",
      "+-----+------+\n",
      "\n",
      "region\n",
      "+-----+------+\n",
      "|null?| count|\n",
      "+-----+------+\n",
      "|    0|373204|\n",
      "+-----+------+\n",
      "\n",
      "tag_list\n",
      "+-----+------+\n",
      "|null?| count|\n",
      "+-----+------+\n",
      "|    0|373204|\n",
      "+-----+------+\n",
      "\n"
     ]
    }
   ],
   "source": [
    "for column in all_regions.columns:\n",
    "    print(column)\n",
    "    all_regions.select((F.when(all_regions[column].isNull() == \"false\",0).otherwise(1)).alias(\"null?\")).groupBy(\"null?\").count().show()"
   ]
  },
  {
   "cell_type": "code",
   "execution_count": 20,
   "id": "2bb4d6c0-c0a8-4807-b89c-d24f6af2cef1",
   "metadata": {},
   "outputs": [],
   "source": [
    "c1 = [\"views\" ,\"likes\" ,\"dislikes\" ,\"comment_count\"]\n",
    "\n",
    "for column in c1:\n",
    "    all_regions = all_regions.withColumn(column ,\n",
    "                                     F.when( all_regions[column].isNull() == \"true\" ,0).otherwise(all_regions[column])\n",
    "                                      )\n"
   ]
  },
  {
   "cell_type": "code",
   "execution_count": 21,
   "id": "4ede0894-0c89-4146-a566-cac8a4b58a95",
   "metadata": {},
   "outputs": [],
   "source": [
    "all_regions = all_regions.drop(\"description\" ,\"tags\" ,\"title\" ,\"channel_title\" ,\"thumbnail_link\")"
   ]
  },
  {
   "cell_type": "code",
   "execution_count": 22,
   "id": "446c1c37-1da3-41dd-a1bf-fea5dc9c1a1f",
   "metadata": {},
   "outputs": [],
   "source": [
    "all_regions = all_regions.dropna()"
   ]
  },
  {
   "cell_type": "code",
   "execution_count": 23,
   "id": "ede61f2e-febf-4460-bb83-b968939a2ceb",
   "metadata": {},
   "outputs": [
    {
     "data": {
      "text/plain": [
       "373202"
      ]
     },
     "execution_count": 23,
     "metadata": {},
     "output_type": "execute_result"
    }
   ],
   "source": [
    "all_regions.count()"
   ]
  },
  {
   "cell_type": "code",
   "execution_count": 24,
   "id": "278ea7ba-00a8-42b7-9c3e-5b75b4c4990c",
   "metadata": {},
   "outputs": [],
   "source": [
    "all_regions = all_regions.withColumn(\"likes ratio\" , F.round( (all_regions[\"likes\"] / all_regions[\"views\"]) * 100 ,7) )\n",
    "all_regions = all_regions.withColumn(\"dislikes ratio\" , F.round( (all_regions[\"dislikes\"] / all_regions[\"views\"]) * 100 ,7) )\n",
    "all_regions = all_regions.withColumn(\"comments ratio\" , F.round( (all_regions[\"comment_count\"] / all_regions[\"views\"]) * 100 ,7) )"
   ]
  },
  {
   "cell_type": "code",
   "execution_count": 25,
   "id": "a78ab838-e33a-4191-856a-0fc176a146fb",
   "metadata": {},
   "outputs": [],
   "source": [
    "window_fun = Window.orderBy(\"row_id\")"
   ]
  },
  {
   "cell_type": "code",
   "execution_count": 26,
   "id": "42296eb2-2374-444c-9a83-cf9879551ce9",
   "metadata": {},
   "outputs": [],
   "source": [
    "all_regions = all_regions.withColumn(\"row_id\" ,F.row_number().over(window_fun))"
   ]
  },
  {
   "cell_type": "code",
   "execution_count": 28,
   "id": "5236de10-7b21-4496-87e8-ef83ab98ccd1",
   "metadata": {},
   "outputs": [],
   "source": [
    "db_url = 'jdbc:postgresql://localhost:5432/Youtube'\n",
    "user = 'postgres'\n",
    "password = 'test1234'"
   ]
  },
  {
   "cell_type": "code",
   "execution_count": null,
   "id": "aec5785d-1639-45de-8cb7-563da231143e",
   "metadata": {},
   "outputs": [],
   "source": [
    "all_regions.select(\"*\") \\\n",
    "        .write \\\n",
    "        .format(\"jdbc\") \\\n",
    "        .option(\"driver\", \"org.postgresql.Driver\") \\\n",
    "        .option(\"url\", db_url) \\\n",
    "        .option(\"dbtable\", \"youtube_videos\") \\\n",
    "        .option(\"user\", user) \\\n",
    "        .option(\"password\", password) \\\n",
    "        .mode(\"append\") \\\n",
    "        .save()"
   ]
  },
  {
   "cell_type": "code",
   "execution_count": null,
   "id": "f3f3cb43-a480-4d65-823d-fe09ce202143",
   "metadata": {},
   "outputs": [],
   "source": []
  }
 ],
 "metadata": {
  "kernelspec": {
   "display_name": "Python 3 (ipykernel)",
   "language": "python",
   "name": "python3"
  },
  "language_info": {
   "codemirror_mode": {
    "name": "ipython",
    "version": 3
   },
   "file_extension": ".py",
   "mimetype": "text/x-python",
   "name": "python",
   "nbconvert_exporter": "python",
   "pygments_lexer": "ipython3",
   "version": "3.11.6"
  }
 },
 "nbformat": 4,
 "nbformat_minor": 5
}
